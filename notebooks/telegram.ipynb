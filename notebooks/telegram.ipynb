{
 "cells": [
  {
   "cell_type": "code",
   "execution_count": 12,
   "metadata": {},
   "outputs": [
    {
     "name": "stdout",
     "output_type": "stream",
     "text": [
      "Data saved successfully.\n"
     ]
    }
   ],
   "source": [
    "import pandas as pd\n",
    "from sqlalchemy import create_engine\n",
    "\n",
    "# Configure your database connection\n",
    "db_host = 'localhost'\n",
    "db_port = '5432'\n",
    "db_name = 'tickvah_banks_ads'\n",
    "db_user = 'postgres'\n",
    "db_password = 'ocho'\n",
    "\n",
    "# Create the database URL\n",
    "db_url = f'postgresql://{db_user}:{db_password}@{db_host}:{db_port}/{db_name}'\n",
    "\n",
    "# Create the SQLAlchemy engine\n",
    "engine = create_engine(db_url)\n",
    "\n",
    "# Load the CSV file into a DataFrame\n",
    "tele_filepath = '../data/daily_telegram_subscriptions.csv'\n",
    "telegram_df = pd.read_csv(tele_filepath)\n",
    "\n",
    "# Write the DataFrame to a new table in the PostgreSQL database\n",
    "telegram_df.to_sql('telegram_data', engine, if_exists='replace', index=False)\n",
    "\n",
    "print(\"Data saved successfully.\")\n"
   ]
  },
  {
   "cell_type": "code",
   "execution_count": 13,
   "metadata": {},
   "outputs": [],
   "source": [
    "\n",
    "# Function to load data from the database\n",
    "def load_data(engine):\n",
    "   telegram_df= pd.read_sql('SELECT * FROM telegram_data', engine)\n",
    "   return telegram_df"
   ]
  },
  {
   "cell_type": "code",
   "execution_count": 14,
   "metadata": {},
   "outputs": [
    {
     "name": "stdout",
     "output_type": "stream",
     "text": [
      "         date  subscribers\n",
      "0  2017-01-01       161595\n",
      "1  2017-01-02       161595\n",
      "2  2017-01-03       161595\n",
      "3  2017-01-04       161595\n",
      "4  2017-01-05       161596\n"
     ]
    }
   ],
   "source": [
    "telegram_data_from_db =load_data(engine)\n",
    "print(telegram_data_from_db.head())"
   ]
  }
 ],
 "metadata": {
  "kernelspec": {
   "display_name": "Python 3",
   "language": "python",
   "name": "python3"
  },
  "language_info": {
   "codemirror_mode": {
    "name": "ipython",
    "version": 3
   },
   "file_extension": ".py",
   "mimetype": "text/x-python",
   "name": "python",
   "nbconvert_exporter": "python",
   "pygments_lexer": "ipython3",
   "version": "3.11.1"
  }
 },
 "nbformat": 4,
 "nbformat_minor": 2
}
